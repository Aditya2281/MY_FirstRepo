{
 "cells": [
  {
   "cell_type": "markdown",
   "id": "a279d165",
   "metadata": {
    "execution": {
     "iopub.execute_input": "2025-03-19T05:21:40.178447Z",
     "iopub.status.busy": "2025-03-19T05:21:40.178119Z",
     "iopub.status.idle": "2025-03-19T05:21:40.185913Z",
     "shell.execute_reply": "2025-03-19T05:21:40.184620Z",
     "shell.execute_reply.started": "2025-03-19T05:21:40.178413Z"
    },
    "papermill": {
     "duration": 0.001833,
     "end_time": "2025-03-19T05:39:53.992683",
     "exception": false,
     "start_time": "2025-03-19T05:39:53.990850",
     "status": "completed"
    },
    "tags": []
   },
   "source": [
    "# This is my first Notebook Aditya"
   ]
  },
  {
   "cell_type": "code",
   "execution_count": 1,
   "id": "b28b4ada",
   "metadata": {
    "_cell_guid": "b1076dfc-b9ad-4769-8c92-a6c4dae69d19",
    "_uuid": "8f2839f25d086af736a60e9eeb907d3b93b6e0e5",
    "execution": {
     "iopub.execute_input": "2025-03-19T05:39:53.997683Z",
     "iopub.status.busy": "2025-03-19T05:39:53.997259Z",
     "iopub.status.idle": "2025-03-19T05:39:54.004503Z",
     "shell.execute_reply": "2025-03-19T05:39:54.003685Z"
    },
    "papermill": {
     "duration": 0.011564,
     "end_time": "2025-03-19T05:39:54.005873",
     "exception": false,
     "start_time": "2025-03-19T05:39:53.994309",
     "status": "completed"
    },
    "tags": []
   },
   "outputs": [
    {
     "data": {
      "text/plain": [
       "4"
      ]
     },
     "execution_count": 1,
     "metadata": {},
     "output_type": "execute_result"
    }
   ],
   "source": [
    "2+2"
   ]
  }
 ],
 "metadata": {
  "kaggle": {
   "accelerator": "none",
   "dataSources": [],
   "dockerImageVersionId": 30918,
   "isGpuEnabled": false,
   "isInternetEnabled": false,
   "language": "python",
   "sourceType": "notebook"
  },
  "kernelspec": {
   "display_name": "Python 3",
   "language": "python",
   "name": "python3"
  },
  "language_info": {
   "codemirror_mode": {
    "name": "ipython",
    "version": 3
   },
   "file_extension": ".py",
   "mimetype": "text/x-python",
   "name": "python",
   "nbconvert_exporter": "python",
   "pygments_lexer": "ipython3",
   "version": "3.10.12"
  },
  "papermill": {
   "default_parameters": {},
   "duration": 3.085695,
   "end_time": "2025-03-19T05:39:54.425735",
   "environment_variables": {},
   "exception": null,
   "input_path": "__notebook__.ipynb",
   "output_path": "__notebook__.ipynb",
   "parameters": {},
   "start_time": "2025-03-19T05:39:51.340040",
   "version": "2.6.0"
  }
 },
 "nbformat": 4,
 "nbformat_minor": 5
}
